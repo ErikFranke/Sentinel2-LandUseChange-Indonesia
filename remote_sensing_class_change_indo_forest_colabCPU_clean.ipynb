{
  "cells": [
    {
      "cell_type": "markdown",
      "metadata": {
        "id": "2EYadrLU14kt"
      },
      "source": [
        "# Eine Analyse der Landnutzungsänderung in Indonesien: Überprüfung der Null-Abholzungsverpflichtung mittels Fernerkundung"
      ]
    },
    {
      "cell_type": "markdown",
      "metadata": {
        "id": "xIJw1ZLa14lF"
      },
      "source": [
        "Google Drive in Colab mounten."
      ]
    },
    {
      "cell_type": "code",
      "execution_count": null,
      "metadata": {
        "id": "TlSs83Nr14lG"
      },
      "outputs": [],
      "source": [
        "# Mount Google Drive\n",
        "from google.colab import drive\n",
        "drive.mount('/content/drive')"
      ]
    },
    {
      "cell_type": "markdown",
      "metadata": {
        "id": "N9pbfEfm14lI"
      },
      "source": [
        "Erforderliche Bibliotheken in Colab installieren."
      ]
    },
    {
      "cell_type": "code",
      "source": [
        "!python --version"
      ],
      "metadata": {
        "id": "rcgEwki13tpG"
      },
      "execution_count": null,
      "outputs": []
    },
    {
      "cell_type": "code",
      "source": [
        "import torch\n",
        "\n",
        "if torch.cuda.is_available():\n",
        "    device_index = torch.cuda.current_device()\n",
        "    gpu_name = torch.cuda.get_device_name(device_index)\n",
        "    print(f\"Aktuelle GPU: {gpu_name}\")\n",
        "else:\n",
        "    print(\"Keine GPU verfügbar.\")"
      ],
      "metadata": {
        "id": "Sx7iZr03vD7C"
      },
      "execution_count": null,
      "outputs": []
    },
    {
      "cell_type": "code",
      "execution_count": null,
      "metadata": {
        "id": "icMrEnqn14lI"
      },
      "outputs": [],
      "source": [
        "# Installiere fehlende Bibliotheken in Colab\n",
        "!pip install rasterio geopandas tqdm matplotlib scikit-learn joblib"
      ]
    },
    {
      "cell_type": "markdown",
      "metadata": {
        "id": "fMDipv2z14lJ"
      },
      "source": [
        "Importieren der notwendigen Bibliotheken wie rasterio, geopandas, pandas, numpy, scikit-learn, matplotlib und tqdm."
      ]
    },
    {
      "cell_type": "code",
      "execution_count": null,
      "metadata": {
        "id": "vt5BONAT14lJ"
      },
      "outputs": [],
      "source": [
        "import os\n",
        "import rasterio\n",
        "import rasterio as rio\n",
        "from rasterio.enums import Resampling\n",
        "from rasterio.transform import from_origin\n",
        "from rasterio.features import geometry_mask\n",
        "from rasterio.plot import show\n",
        "from rasterio.features import sieve\n",
        "import geopandas as gpd\n",
        "import pandas as pd\n",
        "import numpy as np\n",
        "from sklearn.model_selection import train_test_split\n",
        "from sklearn.ensemble import RandomForestClassifier\n",
        "from sklearn.metrics import classification_report, accuracy_score\n",
        "import xml.etree.ElementTree as ET\n",
        "import matplotlib.pyplot as plt\n",
        "from matplotlib.colors import ListedColormap\n",
        "import matplotlib.patheffects as pe\n",
        "from tqdm.notebook import tqdm\n",
        "from concurrent.futures import ProcessPoolExecutor, as_completed"
      ]
    },
    {
      "cell_type": "markdown",
      "metadata": {
        "id": "fE_n_4Uq14lK"
      },
      "source": [
        "Definieren der Input- und Output-Verzeichnisse."
      ]
    },
    {
      "cell_type": "code",
      "execution_count": null,
      "metadata": {
        "id": "cpWlqfNw14lK"
      },
      "outputs": [],
      "source": [
        "input_dir = '/content/drive/My Drive/Colab Notebooks/LCC/input_dir'\n",
        "output_dir = '/content/drive/My Drive/Colab Notebooks/LCC/output_dir'\n",
        "\n",
        "# Überprüfen, ob die Verzeichnisse korrekt eingebunden sind\n",
        "print(\"Input Directory:\", os.listdir(input_dir))\n",
        "print(\"Output Directory:\", os.listdir(output_dir))"
      ]
    },
    {
      "cell_type": "markdown",
      "metadata": {
        "id": "Fv8zu9cm14lL"
      },
      "source": [
        "## 1. Verarbeitung der Geodaten von 2023\n",
        "Überblick: Laden der Trainingsdaten (Shapefile) und Rasterdaten als TCI."
      ]
    },
    {
      "cell_type": "code",
      "execution_count": null,
      "metadata": {
        "id": "IFDFLJMs14lM"
      },
      "outputs": [],
      "source": [
        "# Shapefile laden\n",
        "shape_loc_23 = f'{input_dir}/SCP-training-data-T49MHS-23.shp'\n",
        "gdf_23 = gpd.read_file(shape_loc_23)\n",
        "\n",
        "# Rasterdaten laden\n",
        "raster_loc_23 = f'{input_dir}/T49MHS_20230902T022541_TCI_10m.jp2'\n",
        "raster_23 = rasterio.open(raster_loc_23)\n",
        "\n",
        "# Anzeigen der ersten Zeilen der Shapefile-Daten\n",
        "print(gdf_23.head())\n",
        "\n",
        "# Anzeigen der Rasterdaten\n",
        "show(raster_23)"
      ]
    },
    {
      "cell_type": "markdown",
      "metadata": {
        "id": "tCDFFA1o14lP"
      },
      "source": [
        "### 1.1 Preprocessing\n",
        "Prüfen der Trainingsdaten auf Fehler und Konvertierung der Datentypen falls notwendig."
      ]
    },
    {
      "cell_type": "code",
      "execution_count": null,
      "metadata": {
        "id": "NV1aoqG014lQ"
      },
      "outputs": [],
      "source": [
        "# Prüfen und Konvertieren der 'macroclass'-Spalte\n",
        "print(\"Datentypen vor der Konvertierung:\")\n",
        "print(gdf_23.dtypes)\n",
        "\n",
        "# Prüfen, ob alle Werte in der Spalte macroclass vom Typ int64 sind\n",
        "if gdf_23['macroclass'].dtype != np.int64:\n",
        "    print(\"\\nDie Spalte 'macroclass' enthält nicht nur int64-Werte!\")\n",
        "\n",
        "    # Identifizieren ungültiger Werte\n",
        "    invalid_values = gdf_23[~gdf_23['macroclass'].apply(lambda x: isinstance(x, (int, np.integer)))]\n",
        "    print(\"\\nUngültige Werte in 'macroclass':\")\n",
        "    print(invalid_values)\n",
        "\n",
        "    # Versuchen, die Werte zu konvertieren\n",
        "    try:\n",
        "        gdf_23['macroclass'] = gdf_23['macroclass'].astype('Int64')  # Pandas Integer-Typ mit NaN-Unterstützung\n",
        "        print(\"\\nKonvertierung erfolgreich. Neuer Datentyp:\")\n",
        "        print(gdf_23.dtypes)\n",
        "    except ValueError as e:\n",
        "        print(\"\\nFehler bei der Konvertierung:\", e)\n",
        "        # Entfernen der Zeilen mit ungültigen Werten\n",
        "        gdf_23 = gdf_23[gdf_23['macroclass'].apply(lambda x: isinstance(x, (int, np.integer)))]\n",
        "\n",
        "# Überprüfen der Geometrie auf Fehler und Entfernen ungültiger Geometrien\n",
        "def remove_invalid_geometry(df):\n",
        "    invalid_geometries = df[~df.is_valid]\n",
        "    if not invalid_geometries.empty:\n",
        "        print(\"\\nUngültige Geometrien:\")\n",
        "        print(invalid_geometries)\n",
        "    valid_df = df[df.is_valid]\n",
        "    print(f\"Anzahl gültiger Geometrien nach Bereinigung: {len(valid_df)}\")\n",
        "    return valid_df\n",
        "\n",
        "gdf_23 = remove_invalid_geometry(gdf_23)\n",
        "\n",
        "# Geänderte Datei speichern und Originaldatei ersetzen\n",
        "gdf_23.to_file(shape_loc_23)\n",
        "print(f\"Das bereinigte Shapefile wurde erfolgreich unter {shape_loc_23} gespeichert.\")"
      ]
    },
    {
      "cell_type": "markdown",
      "metadata": {
        "id": "K_cwP5Ia14lU"
      },
      "source": [
        "Laden der relevanten Bänder (B01, B02, B03, B04, B05, B06, B07, B08, B08A, B11, B12) und Resampling der 20 m Bänder auf 10 m mithilfe der bilinearen Resampling-Methode."
      ]
    },
    {
      "cell_type": "code",
      "execution_count": null,
      "metadata": {
        "id": "uZW2_lXX14lV"
      },
      "outputs": [],
      "source": [
        "# Input-Dateien\n",
        "raster_dir_23 = input_dir\n",
        "shape_loc_23 = f'{input_dir}/SCP-training-data-T49MHS-23.shp'\n",
        "\n",
        "# Relevante Bänder mit der höchsten Auflösung (10m und 20m) laden\n",
        "band_files_10m_23 = [\n",
        "    'T49MHS_20230902T022541_B02_10m.jp2', 'T49MHS_20230902T022541_B03_10m.jp2',\n",
        "    'T49MHS_20230902T022541_B04_10m.jp2', 'T49MHS_20230902T022541_B08_10m.jp2'\n",
        "]\n",
        "band_files_20m_23 = [\n",
        "    'T49MHS_20230902T022541_B01_20m.jp2', 'T49MHS_20230902T022541_B05_20m.jp2',\n",
        "    'T49MHS_20230902T022541_B06_20m.jp2', 'T49MHS_20230902T022541_B07_20m.jp2',\n",
        "    'T49MHS_20230902T022541_B8A_20m.jp2', 'T49MHS_20230902T022541_B11_20m.jp2',\n",
        "    'T49MHS_20230902T022541_B12_20m.jp2'\n",
        "]\n",
        "\n",
        "bands_23 = []\n",
        "\n",
        "# 10m Bänder laden\n",
        "for band_file in band_files_10m_23:\n",
        "    with rio.open(f'{raster_dir_23}/{band_file}') as src:\n",
        "        bands_23.append(src.read(1))\n",
        "\n",
        "# 20m Bänder laden und auf 10m resamplen\n",
        "for band_file in band_files_20m_23:\n",
        "    with rio.open(f'{raster_dir_23}/{band_file}') as src:\n",
        "        data = src.read(\n",
        "            out_shape=(src.count, src.height * 2, src.width * 2),\n",
        "            resampling=Resampling.bilinear\n",
        "        )\n",
        "        bands_23.append(data[0])\n",
        "\n",
        "bands_23 = np.array(bands_23)\n",
        "\n",
        "# Shapefile laden\n",
        "gdf_23 = gpd.read_file(shape_loc_23)\n",
        "\n",
        "# Sicherstellen, dass das Shapefile das gleiche CRS hat wie das Raster\n",
        "with rio.open(f'{raster_dir_23}/{band_files_10m_23[0]}') as src:\n",
        "    crs_23 = src.crs\n",
        "    transform_23 = src.transform\n",
        "\n",
        "if gdf_23.crs != crs_23:\n",
        "    gdf_23 = gdf_23.to_crs(crs_23)\n",
        "\n",
        "# Dimensionen des Rasters bestimmen\n",
        "height_23, width_23 = bands_23.shape[1], bands_23.shape[2]"
      ]
    },
    {
      "cell_type": "markdown",
      "metadata": {
        "id": "9zOBYja114lW"
      },
      "source": [
        "Bestimmen und Visualisieren der spektralen Signaturen der Trainingsflächen (= MW Pixelwerte pro Klasse)."
      ]
    },
    {
      "cell_type": "code",
      "execution_count": null,
      "metadata": {
        "id": "F0_a5d4i14lX"
      },
      "outputs": [],
      "source": [
        "# Pfad zur Metadatendatei\n",
        "metadata_23 = f'{input_dir}/MTD_MSIL2A_23.xml'\n",
        "\n",
        "# Metadaten auslesen\n",
        "tree = ET.parse(metadata_23)\n",
        "root = tree.getroot()\n",
        "\n",
        "# BOA Quantification Value extrahieren\n",
        "boa_quantification_value = float(root.find(\".//QUANTIFICATION_VALUES_LIST/BOA_QUANTIFICATION_VALUE\").text)\n",
        "print(f'BOA Quantification Value: {boa_quantification_value}')\n",
        "\n",
        "# BOA Add Offset Werte extrahieren und ausgeben\n",
        "boa_add_offsets = root.findall(\".//BOA_ADD_OFFSET_VALUES_LIST/BOA_ADD_OFFSET\")\n",
        "reflectance_add_band = []\n",
        "for offset in boa_add_offsets:\n",
        "    band_id = int(offset.attrib['band_id'])\n",
        "    add_offset = float(offset.text)\n",
        "    reflectance_add_band.append(add_offset)\n",
        "    print(f'Band {band_id}: BOA Add Offset: {add_offset}')\n",
        "\n",
        "# Sicherstellen, dass die Anzahl der Bänder übereinstimmt\n",
        "assert len(reflectance_add_band) >= bands_23.shape[0], \"Anzahl der Bänder stimmt nicht überein\"\n",
        "\n",
        "# Nur die vorhandenen Bänder verwenden\n",
        "reflectance_add_band = reflectance_add_band[:bands_23.shape[0]]\n",
        "\n",
        "# Spektrale Signaturen der Trainingsflächen bestimmen\n",
        "spectral_signatures_23 = {}\n",
        "for macroclass in gdf_23['macroclass'].unique():\n",
        "    class_pixels = []\n",
        "    for _, row in gdf_23[gdf_23['macroclass'] == macroclass].iterrows():\n",
        "        geom = row['geometry']\n",
        "        mask = geometry_mask([geom], transform=transform_23, invert=True, out_shape=(bands_23.shape[1], bands_23.shape[2]))\n",
        "        class_pixels.append([band[mask] for band in bands_23])\n",
        "\n",
        "    class_pixels = np.concatenate(class_pixels, axis=1)\n",
        "    spectral_signatures_23[macroclass] = np.mean(class_pixels, axis=1)\n",
        "\n",
        "# Umwandlung der spektralen Signaturen von DN zu Reflectance\n",
        "spectral_signatures_reflectance_23 = {}\n",
        "for macroclass, dn_values in spectral_signatures_23.items():\n",
        "    reflectance_values = (dn_values - np.array(reflectance_add_band)) / boa_quantification_value\n",
        "    spectral_signatures_reflectance_23[macroclass] = reflectance_values\n",
        "\n",
        "# Klassen und Farben\n",
        "classes = {\n",
        "    1: ('Wasser', '#002eff'),\n",
        "    2: ('Stadt', '#ff1300'),\n",
        "    3: ('Regenwald', '#007808'),\n",
        "    4: ('Buschland', '#1eb100'),\n",
        "    5: ('Feuchtgebiet', '#05a89d'),\n",
        "    6: ('Palmöl', '#b800ff'),\n",
        "    7: ('Feld', '#ff8f00'),\n",
        "    8: ('Boden', '#fff200'),\n",
        "    9: ('Wolken', '#ffffff'),\n",
        "    10: ('Wolkenschatten', '#8f8f8f')\n",
        "}\n",
        "\n",
        "# Spektrale Signaturen visualisieren\n",
        "plt.figure(figsize=(10, 6))\n",
        "for macroclass, (class_name, color) in classes.items():\n",
        "    if macroclass in spectral_signatures_reflectance_23:\n",
        "        plt.plot(spectral_signatures_reflectance_23[macroclass], label=class_name, color=color, linewidth=1.5, linestyle='-',\n",
        "                 path_effects=[pe.Stroke(linewidth=2, foreground='black'), pe.Normal()])\n",
        "\n",
        "# Achsenbeschriftungen für jedes Band hinzufügen\n",
        "bands_labels = [f'Band {i+1}' for i in range(len(reflectance_add_band))]\n",
        "plt.xticks(ticks=range(len(reflectance_add_band)), labels=bands_labels)\n",
        "\n",
        "plt.ylabel('Reflexion [0-1]', fontsize=12, fontweight='bold', labelpad=20)\n",
        "plt.ylim(0.1, 1.0)\n",
        "plt.yticks(np.arange(0.2, 1.1, 0.1))\n",
        "plt.legend(fontsize=10)\n",
        "\n",
        "# Diagramm als JPG in hoher Auflösung speichern\n",
        "jpeg_path = os.path.join(output_dir, 'spektrale_signaturen23.jpg')\n",
        "plt.savefig(jpeg_path, dpi=1200, format='jpg')\n",
        "\n",
        "plt.show()"
      ]
    },
    {
      "cell_type": "markdown",
      "metadata": {
        "id": "MmCr1m3F14lY"
      },
      "source": [
        "Features und Labels für das Modelltraining festelgen. Aufteilen der Traingsflächen in einen Trainings- (70 %) und Testdatensatz (30 %)."
      ]
    },
    {
      "cell_type": "code",
      "execution_count": null,
      "metadata": {
        "id": "TuMYLmGb14lZ"
      },
      "outputs": [],
      "source": [
        "# Features und Labels extrahieren\n",
        "features_23 = []\n",
        "labels_23 = []\n",
        "\n",
        "for _, row in gdf_23.iterrows():\n",
        "    geom = row['geometry']\n",
        "    macroclass = row['macroclass']\n",
        "\n",
        "    # Maske für das Polygon erstellen\n",
        "    mask = geometry_mask([geom], transform=transform_23, invert=True, out_shape=(src.height, src.width))\n",
        "\n",
        "    # Pixelwerte innerhalb des Polygons extrahieren\n",
        "    polygon_features = []\n",
        "    for band in bands_23:\n",
        "        masked_band = band[mask]\n",
        "        polygon_features.append(masked_band)\n",
        "\n",
        "    # Sicherstellen, dass alle Bänder die gleiche Anzahl von Pixeln haben\n",
        "    min_length = min(len(band) for band in polygon_features)\n",
        "    polygon_features = [band[:min_length] for band in polygon_features]\n",
        "\n",
        "    # Features und Labels sammeln\n",
        "    features_23.extend(np.array(polygon_features).T)\n",
        "    labels_23.extend([macroclass] * min_length)\n",
        "\n",
        "# In numpy Arrays umwandeln\n",
        "features_23 = np.array(features_23)\n",
        "labels_23 = np.array(labels_23)\n",
        "\n",
        "# Trainings- und Testdaten aufteilen\n",
        "X_train_23, X_test_23, y_train_23, y_test_23 = train_test_split(features_23, labels_23, test_size=0.3, random_state=42)\n",
        "\n",
        "# Überprüfen der Aufteilung\n",
        "print(\"Anzahl der Trainingsdaten:\", len(X_train_23))\n",
        "print(\"Anzahl der Testdaten:\", len(X_test_23))"
      ]
    },
    {
      "cell_type": "markdown",
      "metadata": {
        "id": "Ur3ZLm6G14la"
      },
      "source": [
        "Trainieren des Machine Learning Modells mit dem Random Forest Algorithmus (200 Entscheidungsbäume) mit den Trainingsdaten. Evaluieren des Modells mit den Testdaten und Ausgabe des Klassifikationsberichtes."
      ]
    },
    {
      "cell_type": "code",
      "execution_count": null,
      "metadata": {
        "colab": {
          "background_save": true
        },
        "id": "xVSA1BJZ14la"
      },
      "outputs": [],
      "source": [
        "# Random Forest Modell direkt mit 200 Bäumen trainieren\n",
        "print(\"Training des Random Forest Modells...\")\n",
        "rf_model_23 = RandomForestClassifier(n_estimators=200, random_state=42, n_jobs=-1)\n",
        "\n",
        "# Fortschrittsbalken simulieren (da RandomForest intern parallel trainiert)\n",
        "with tqdm(total=1, desc=\"Training Progress\") as pbar:\n",
        "    rf_model_23.fit(X_train_23, y_train_23)  # Modell trainieren\n",
        "    pbar.update(1)  # Fortschritt erhöhen\n",
        "\n",
        "# Vorhersagen auf den Testdaten\n",
        "y_pred_23 = rf_model_23.predict(X_test_23)\n",
        "\n",
        "# Genauigkeit berechnen und ausgeben\n",
        "accuracy_23 = accuracy_score(y_test_23, y_pred_23)\n",
        "print(f\"Genauigkeit: {accuracy_23:.2f}\")\n",
        "\n",
        "# Klassifikationsbericht als DataFrame speichern\n",
        "classification_rep_23 = classification_report(y_test_23, y_pred_23, output_dict=True)\n",
        "df_classification_report_23 = pd.DataFrame(classification_rep_23).transpose()\n",
        "\n",
        "# Excel-Datei speichern\n",
        "output_excel_path_23 = os.path.join(output_dir, 'classification_report_23.xlsx')\n",
        "df_classification_report_23.to_excel(output_excel_path_23, index=True)\n",
        "\n",
        "print(f\"Klassifikationsbericht wurde erfolgreich unter {output_excel_path_23} gespeichert.\")"
      ]
    },
    {
      "cell_type": "markdown",
      "metadata": {
        "id": "E8oJlsq514lb"
      },
      "source": [
        "### 1.2 Band processing - Klassifikation\n",
        "Klassifikation für das gesamte Raster."
      ]
    },
    {
      "cell_type": "code",
      "execution_count": null,
      "metadata": {
        "id": "Y6dE6zI-14lb"
      },
      "outputs": [],
      "source": [
        "# Klassifikation für das gesamte Raster durchführen\n",
        "flat_bands_23 = bands_23.reshape(bands_23.shape[0], -1).T\n",
        "print(\"Klassifikation des gesamten Rasters...\")\n",
        "\n",
        "# Fortschrittsbalken und Batch-Verarbeitung\n",
        "predictions_23 = []\n",
        "batch_size = 10000  # Batch-Größe\n",
        "for i in tqdm(range(0, flat_bands_23.shape[0], batch_size), desc=\"Klassifikation Progress\"):\n",
        "    end = min(i + batch_size, flat_bands_23.shape[0])\n",
        "    batch = flat_bands_23[i:end]\n",
        "    predictions_23.extend(rf_model_23.predict(batch))\n",
        "\n",
        "predictions_23 = np.array(predictions_23).reshape(bands_23.shape[1], bands_23.shape[2])"
      ]
    },
    {
      "cell_type": "markdown",
      "metadata": {
        "id": "ZIP8Opw8EJiZ"
      },
      "source": [
        "\"Confidence Map\" für die Klassifizierung wird erstellt. Dazu berechnet das Modell für jeden Pixel im Raster die Wahrscheinlichkeiten, zu welcher der definierten Landnutzungsklassen (z.B. Wasser, Stadt, Regenwald, etc.) er gehört. Im Ergenis zeigt die Confidence Map die Sicherheit des Modells für die jeweilige Klassifizierung an.\n",
        "\n"
      ]
    },
    {
      "cell_type": "code",
      "execution_count": null,
      "metadata": {
        "id": "YGIhdWGi14ld"
      },
      "outputs": [],
      "source": [
        "# Daten als NumPy-Array\n",
        "flat_bands_23_array = flat_bands_23.astype(np.float32)\n",
        "\n",
        "# Confidence Map initialisieren\n",
        "confidence_23 = np.zeros(flat_bands_23.shape[0], dtype=float)\n",
        "\n",
        "print(\"Erstellung der Confidence Map mit CPU...\")\n",
        "\n",
        "# Berechnung der Confidence-Werte in Batches\n",
        "for i in tqdm(range(0, flat_bands_23.shape[0], batch_size), desc=\"Confidence Map Progress\"):\n",
        "    end = min(i + batch_size, flat_bands_23.shape[0])\n",
        "    batch = flat_bands_23_array[i:end]  # Batch extrahieren\n",
        "    probs = rf_model_23.predict_proba(batch)  # Wahrscheinlichkeiten berechnen\n",
        "    confidence_23[i:end] = np.max(probs, axis=1)  # Maximalwert speichern\n",
        "\n",
        "# Ergebnisse in die ursprüngliche Rasterform bringen\n",
        "confidence_23 = confidence_23.reshape(src.height, src.width)"
      ]
    },
    {
      "cell_type": "markdown",
      "metadata": {
        "id": "enzx3CMA14ld"
      },
      "source": [
        "Ausgabe des Klassifikationsergebnisses und speichern als GeoTIFF."
      ]
    },
    {
      "cell_type": "code",
      "execution_count": null,
      "metadata": {
        "id": "Fc95wpUV14ld"
      },
      "outputs": [],
      "source": [
        "# Pfade für die Ausgabe\n",
        "output_classification_path_23 = f'{output_dir}/T49MHS-23-RandomForest-01.tif'\n",
        "output_confidence_path_23 = f'{output_dir}/T49MHS-23-confidence-01.tif'\n",
        "\n",
        "# Dimensionen des Rasters bestimmen\n",
        "height_23, width_23 = bands_23.shape[1], bands_23.shape[2]\n",
        "\n",
        "# Klassifikationsergebnis speichern\n",
        "with rasterio.open(\n",
        "    output_classification_path_23,\n",
        "    'w',\n",
        "    driver='GTiff',\n",
        "    height=height_23,\n",
        "    width=width_23,\n",
        "    count=1,\n",
        "    dtype='float32',\n",
        "    crs=crs_23,\n",
        "    transform=transform_23,\n",
        "    compress='lzw'\n",
        ") as dst:\n",
        "    dst.write(predictions_23, 1)\n",
        "\n",
        "# Confidence Map speichern\n",
        "with rasterio.open(\n",
        "    output_confidence_path_23,\n",
        "    'w',\n",
        "    driver='GTiff',\n",
        "    height=height_23,\n",
        "    width=width_23,\n",
        "    count=1,\n",
        "    dtype='float32',\n",
        "    crs=crs_23,\n",
        "    transform=transform_23,\n",
        "    compress='lzw'\n",
        ") as dst:\n",
        "    dst.write(confidence_23, 1)\n",
        "\n",
        "# Farben definieren\n",
        "colors = ['#002eff', '#ff1300', '#007808', '#1eb100', '#05a89d', '#b800ff', '#ff8f00', '#fff200', '#ffffff', '#8f8f8f']\n",
        "cmap = ListedColormap(colors)\n",
        "\n",
        "# Klassifikationsergebnis anzeigen\n",
        "plt.figure(figsize=(10, 10))\n",
        "plt.title('Klassifikationsergebnis')\n",
        "plt.imshow(predictions_23, cmap=cmap)\n",
        "plt.colorbar(ticks=np.arange(1, 11), label='Klassen')\n",
        "plt.show()\n",
        "\n",
        "# Confidence Map anzeigen\n",
        "plt.figure(figsize=(10, 10))\n",
        "plt.title('Confidence Map')\n",
        "plt.imshow(confidence_23, cmap='viridis')\n",
        "plt.colorbar(label='Confidence')\n",
        "plt.show()"
      ]
    },
    {
      "cell_type": "markdown",
      "metadata": {
        "id": "f1RtBK7D14lf"
      },
      "source": [
        "Funktion sieve ermöglicht das Ersetzen isolierter Pixelwerte durch den Wert des größten Nachbarpatches. Entfernen kleiner Patches aus der Klassifizierung."
      ]
    },
    {
      "cell_type": "code",
      "execution_count": null,
      "metadata": {
        "id": "DHF-tGzc14lf"
      },
      "outputs": [],
      "source": [
        "# Pfad zur Klassifikationsdatei\n",
        "output_classification_path_23 = f'{output_dir}/T49MHS-23-RandomForest-01.tif'\n",
        "\n",
        "# Klassifikationsergebnis laden, um CRS und Transform zu erhalten\n",
        "with rasterio.open(output_classification_path_23) as src_23:\n",
        "    predictions_23 = src_23.read(1)\n",
        "    crs_23 = src_23.crs\n",
        "    transform_23 = src_23.transform\n",
        "\n",
        "# Verschiedene Werte für die Siebgröße ausprobieren\n",
        "sizes = [200, 500, 1000]\n",
        "\n",
        "for size in tqdm(sizes, desc=\"Sieve Sizes\"):\n",
        "    sieved_classification = sieve(predictions_23.astype(rasterio.int32), size=size)\n",
        "\n",
        "    output_path = f'{output_dir}/T49MHS-23-RandomForest-01_sieved_size_{size}.tif'\n",
        "\n",
        "    with rasterio.open(\n",
        "        output_path,\n",
        "        'w',\n",
        "        driver='GTiff',\n",
        "        height=sieved_classification.shape[0],\n",
        "        width=sieved_classification.shape[1],\n",
        "        count=1,\n",
        "        dtype='int32',\n",
        "        crs=crs_23,\n",
        "        transform=transform_23,\n",
        "        compress='lzw'\n",
        "    ) as dst:\n",
        "        dst.write(sieved_classification, 1)\n",
        "\n",
        "    print(f\"Das Klassifikationsergebnis mit size={size} wurde erfolgreich unter {output_path} gespeichert.\")"
      ]
    },
    {
      "cell_type": "markdown",
      "metadata": {
        "id": "H4J2VVhM14lg"
      },
      "source": [
        "### 1.3 Plots\n",
        "Klassifikationsergebnis und Confidence Map mit Legende und Angabe der Koordinaten als JPEG im Ausgabeordner speichern."
      ]
    },
    {
      "cell_type": "code",
      "execution_count": null,
      "metadata": {
        "id": "MhZZ5v3g14lh"
      },
      "outputs": [],
      "source": [
        "# Pfade zu den Dateien\n",
        "tif_path = f'{output_dir}/T49MHS-23-RandomForest-01_sieved_size_200.tif'\n",
        "jpeg_path = f'{output_dir}/T49MHS-23-RandomForest-01_sieved_size_200.jpg'\n",
        "\n",
        "# Klassen und Farben\n",
        "classes = {\n",
        "    1: ('Wasser', '#002eff'),\n",
        "    2: ('Stadt', '#ff1300'),\n",
        "    3: ('Regenwald', '#007808'),\n",
        "    4: ('Buschland', '#1eb100'),\n",
        "    5: ('Feuchtgebiet', '#05a89d'),\n",
        "    6: ('Palmöl', '#b800ff'),\n",
        "    7: ('Feld', '#ff8f00'),\n",
        "    8: ('Boden', '#fff200'),\n",
        "    9: ('Wolken', '#ffffff'),\n",
        "    10: ('Wolkenschatten', '#8f8f8f')\n",
        "}\n",
        "\n",
        "\n",
        "# TIF-Datei laden\n",
        "with rasterio.open(tif_path) as src:\n",
        "    image = src.read(1)\n",
        "    transform = src.transform\n",
        "    crs = src.crs\n",
        "    extent = rasterio.plot.plotting_extent(src)\n",
        "\n",
        "# Bild anzeigen und Farbgebung anwenden\n",
        "fig, ax = plt.subplots(figsize=(10, 10))\n",
        "cmap = plt.cm.colors.ListedColormap([classes[i][1] for i in range(1, 11)])\n",
        "bounds = np.arange(1, 12)\n",
        "norm = plt.cm.colors.BoundaryNorm(bounds, cmap.N)\n",
        "im = ax.imshow(image, cmap=cmap, norm=norm, extent=extent)\n",
        "\n",
        "# Legende hinzufügen\n",
        "handles = [plt.Line2D([0], [0], marker='o', color='w', markerfacecolor=color, markersize=10, label=label,\n",
        "                      markeredgewidth=1, markeredgecolor='black')\n",
        "           for idx, (label, color) in classes.items()]\n",
        "legend = ax.legend(handles=handles, title='Klassen (MC)', loc='upper left', bbox_to_anchor=(1, 1))\n",
        "plt.setp(legend.get_title(), fontsize='12', fontweight='bold')\n",
        "\n",
        "# Koordinaten anzeigen\n",
        "ax.set_xlabel('Longitude', fontsize=12, fontweight='bold', labelpad=20)\n",
        "ax.set_ylabel('Latitude', fontsize=12, fontweight='bold', labelpad=20)\n",
        "ax.yaxis.set_tick_params(rotation=90)\n",
        "ax.grid(False)\n",
        "\n",
        "# Koordinatenformatierung\n",
        "ax.xaxis.set_major_formatter(plt.FuncFormatter(lambda x, _: f'{x:.0f}'))\n",
        "ax.yaxis.set_major_formatter(plt.FuncFormatter(lambda y, _: f'{y:.0f}'))\n",
        "\n",
        "# Bild speichern\n",
        "plt.savefig(jpeg_path, dpi=1200, bbox_inches='tight')\n",
        "plt.close()"
      ]
    },
    {
      "cell_type": "code",
      "execution_count": null,
      "metadata": {
        "id": "oi5qujNU14li"
      },
      "outputs": [],
      "source": [
        "# Pfade zu den Dateien\n",
        "conf_path = f'{output_dir}/T49MHS-23-confidence-01.tif'\n",
        "jpeg_path = f'{output_dir}/T49MHS-23-confidence-01.jpg'\n",
        "\n",
        "# TIF-Datei laden\n",
        "with rasterio.open(conf_path) as src:\n",
        "    image = src.read(1)\n",
        "    transform = src.transform\n",
        "    crs = src.crs\n",
        "    extent = rasterio.plot.plotting_extent(src)\n",
        "\n",
        "# Bild anzeigen und Farbgebung anwenden\n",
        "fig, ax = plt.subplots(figsize=(10, 10))\n",
        "cmap = plt.cm.magma\n",
        "im = ax.imshow(image, cmap=cmap, extent=extent)\n",
        "\n",
        "# Farbskala hinzufügen\n",
        "cbar = plt.colorbar(im, ax=ax, fraction=0.046, pad=0.04)\n",
        "#cbar.ax.set_ylabel('Vertrauensbereich', fontsize=12, fontweight='bold', labelpad=40, rotation=270)\n",
        "#cbar.ax.yaxis.set_label_position('right')\n",
        "\n",
        "# Automatische Werte und benutzerdefinierte Beschriftungen hinzufügen\n",
        "cbar.ax.yaxis.set_major_formatter(plt.FuncFormatter(lambda x, _: f'{x:.1f}'))\n",
        "cbar.ax.text(2.30, 1.0, '- hoch', transform=cbar.ax.transAxes, fontsize=12, fontweight='bold', va='center')\n",
        "cbar.ax.text(2.30, 0.0, '- niedrig', transform=cbar.ax.transAxes, fontsize=12, fontweight='bold', va='center')\n",
        "\n",
        "# Koordinaten anzeigen\n",
        "ax.set_xlabel('Longitude', fontsize=12, fontweight='bold', labelpad=20)\n",
        "ax.set_ylabel('Latitude', fontsize=12, fontweight='bold', labelpad=20)\n",
        "ax.yaxis.set_tick_params(rotation=90)\n",
        "ax.grid(False)\n",
        "\n",
        "# Koordinatenformatierung\n",
        "ax.xaxis.set_major_formatter(plt.FuncFormatter(lambda x, _: f'{x:.0f}'))\n",
        "ax.yaxis.set_major_formatter(plt.FuncFormatter(lambda y, _: f'{y:.0f}'))\n",
        "\n",
        "# Bild speichern\n",
        "plt.savefig(jpeg_path, dpi=1200, bbox_inches='tight')\n",
        "plt.close()"
      ]
    },
    {
      "cell_type": "markdown",
      "metadata": {
        "id": "Xz_hktfp14lj"
      },
      "source": [
        "## 2. Verarbeitung der Geodaten von 2019\n",
        "Die Verarbeitung der Geodaten von 2019 entspricht den gleichen Schritten (Preprocessing, Band processing) wie für die Geodaten von 2023. Angepasst wurden nur die Input-Dateien."
      ]
    },
    {
      "cell_type": "code",
      "execution_count": null,
      "metadata": {
        "id": "2QmMO-Cd14ll"
      },
      "outputs": [],
      "source": [
        "# Definiere die Input- und Output-Verzeichnisse\n",
        "input_dir = '/content/drive/My Drive/Colab Notebooks/LCC/input_dir'\n",
        "output_dir = '/content/drive/My Drive/Colab Notebooks/LCC/output_dir'\n",
        "\n",
        "# Shapefile laden\n",
        "shape_loc_19 = f'{input_dir}/SCP-training-data-T49MHS-19.shp'\n",
        "gdf_19 = gpd.read_file(shape_loc_19)\n",
        "\n",
        "# Rasterdaten laden\n",
        "raster_loc_19 = f'{input_dir}/T49MHS_20191023T022741_TCI_10m.jp2'\n",
        "raster_19 = rasterio.open(raster_loc_19)\n",
        "\n",
        "# Anzeigen der ersten Zeilen der Shapefile-Daten\n",
        "print(gdf_19.head())\n",
        "\n",
        "# Anzeigen der Rasterdaten\n",
        "show(raster_19)\n",
        "\n",
        "# Prüfen und Konvertieren der 'macroclass'-Spalte\n",
        "print(\"Datentypen vor der Konvertierung:\")\n",
        "print(gdf_19.dtypes)\n",
        "\n",
        "# Prüfen, ob alle Werte in der Spalte macroclass vom Typ int64 sind\n",
        "if gdf_19['macroclass'].dtype != np.int64:\n",
        "    print(\"\\nDie Spalte 'macroclass' enthält nicht nur int64-Werte!\")\n",
        "\n",
        "    # Identifizieren ungültiger Werte\n",
        "    invalid_values = gdf_19[~gdf_19['macroclass'].apply(lambda x: isinstance(x, (int, np.integer)))]\n",
        "    print(\"\\nUngültige Werte in 'macroclass':\")\n",
        "    print(invalid_values)\n",
        "\n",
        "    # Versuchen, die Werte zu konvertieren\n",
        "    try:\n",
        "        gdf_19['macroclass'] = gdf_19['macroclass'].astype('Int64')  # Pandas Integer-Typ mit NaN-Unterstützung\n",
        "        print(\"\\nKonvertierung erfolgreich. Neuer Datentyp:\")\n",
        "        print(gdf_19.dtypes)\n",
        "    except ValueError as e:\n",
        "        print(\"\\nFehler bei der Konvertierung:\", e)\n",
        "        # Entfernen der Zeilen mit ungültigen Werten\n",
        "        gdf_19 = gdf_19[gdf_19['macroclass'].apply(lambda x: isinstance(x, (int, np.integer)))]\n",
        "\n",
        "# Überprüfen der Geometrie auf Fehler und Entfernen ungültiger Geometrien\n",
        "def remove_invalid_geometry(df):\n",
        "    invalid_geometries = df[~df.is_valid]\n",
        "    if not invalid_geometries.empty:\n",
        "        print(\"\\nUngültige Geometrien:\")\n",
        "        print(invalid_geometries)\n",
        "    valid_df = df[df.is_valid]\n",
        "    print(f\"Anzahl gültiger Geometrien nach Bereinigung: {len(valid_df)}\")\n",
        "    return valid_df\n",
        "\n",
        "gdf_19 = remove_invalid_geometry(gdf_19)\n",
        "\n",
        "# Geänderte Datei speichern und Originaldatei ersetzen\n",
        "gdf_19.to_file(shape_loc_19)\n",
        "print(f\"Das bereinigte Shapefile wurde erfolgreich unter {shape_loc_19} gespeichert.\")\n"
      ]
    },
    {
      "cell_type": "markdown",
      "metadata": {
        "id": "5BQKXVAT14ll"
      },
      "source": [
        "### 2.1 Preprocessing\n",
        "Laden der relevanten Bänder (B01, B02, B03, B04, B05, B06, B07, B08, B08A, B11, B12) und Resampling der 20 m Bänder auf 10 m mithilfe der bilinearen Resampling-Methode."
      ]
    },
    {
      "cell_type": "code",
      "execution_count": null,
      "metadata": {
        "id": "hpz-q08g14lm"
      },
      "outputs": [],
      "source": [
        "# Input-Dateien\n",
        "raster_dir_19 = input_dir\n",
        "shape_loc_19 = f'{input_dir}/SCP-training-data-T49MHS-19.shp'\n",
        "\n",
        "# Relevante Bänder mit der höchsten Auflösung (10m und 20m) laden\n",
        "band_files_10m_19 = [\n",
        "    'T49MHS_20191023T022741_B02_10m.jp2', 'T49MHS_20191023T022741_B03_10m.jp2',\n",
        "    'T49MHS_20191023T022741_B04_10m.jp2', 'T49MHS_20191023T022741_B08_10m.jp2'\n",
        "]\n",
        "band_files_20m_19 = [\n",
        "    'T49MHS_20191023T022741_B01_20m.jp2', 'T49MHS_20191023T022741_B05_20m.jp2',\n",
        "    'T49MHS_20191023T022741_B06_20m.jp2', 'T49MHS_20191023T022741_B07_20m.jp2',\n",
        "    'T49MHS_20191023T022741_B8A_20m.jp2', 'T49MHS_20191023T022741_B11_20m.jp2',\n",
        "    'T49MHS_20191023T022741_B12_20m.jp2'\n",
        "]\n",
        "\n",
        "bands_19 = []\n",
        "\n",
        "# 10m Bänder laden\n",
        "for band_file in band_files_10m_19:\n",
        "    with rio.open(f'{raster_dir_19}/{band_file}') as src:\n",
        "        bands_19.append(src.read(1))\n",
        "\n",
        "# 20m Bänder laden und auf 10m resamplen\n",
        "for band_file in band_files_20m_19:\n",
        "    with rio.open(f'{raster_dir_19}/{band_file}') as src:\n",
        "        data = src.read(\n",
        "            out_shape=(src.count, src.height * 2, src.width * 2),\n",
        "            resampling=Resampling.bilinear\n",
        "        )\n",
        "        bands_19.append(data[0])\n",
        "\n",
        "bands_19 = np.array(bands_19)\n",
        "\n",
        "# Shapefile laden\n",
        "gdf_19 = gpd.read_file(shape_loc_19)\n",
        "\n",
        "# Sicherstellen, dass das Shapefile das gleiche CRS hat wie das Raster\n",
        "with rio.open(f'{raster_dir_19}/{band_files_10m_19[0]}') as src:\n",
        "    crs_19 = src.crs\n",
        "    transform_19 = src.transform\n",
        "\n",
        "if gdf_19.crs != crs_19:\n",
        "    gdf_19 = gdf_19.to_crs(crs_19)\n",
        "\n",
        "# Dimensionen des Rasters bestimmen\n",
        "height_19, width_19 = bands_19.shape[1], bands_19.shape[2]"
      ]
    },
    {
      "cell_type": "markdown",
      "metadata": {
        "id": "QVg9zXYhLCsC"
      },
      "source": [
        "Bestimmen und Visualisieren der spektralen Signaturen der Trainingsflächen (= MW Pixelwerte pro Klasse)."
      ]
    },
    {
      "cell_type": "code",
      "execution_count": null,
      "metadata": {
        "id": "Ewl8EyWY14lm"
      },
      "outputs": [],
      "source": [
        "# Pfad zur Metadatendatei\n",
        "metadata_19 = f'{input_dir}/MTD_MSIL2A_19.xml'\n",
        "\n",
        "# Metadaten auslesen\n",
        "tree = ET.parse(metadata_19)\n",
        "root = tree.getroot()\n",
        "\n",
        "# BOA Quantification Value extrahieren\n",
        "boa_quantification_value = float(root.find(\".//QUANTIFICATION_VALUES_LIST/BOA_QUANTIFICATION_VALUE\").text)\n",
        "print(f'BOA Quantification Value: {boa_quantification_value}')\n",
        "\n",
        "# BOA Add Offset Werte extrahieren und ausgeben\n",
        "boa_add_offsets = root.findall(\".//BOA_ADD_OFFSET_VALUES_LIST/BOA_ADD_OFFSET\")\n",
        "reflectance_add_band = []\n",
        "for offset in boa_add_offsets:\n",
        "    band_id = int(offset.attrib['band_id'])\n",
        "    add_offset = float(offset.text)\n",
        "    reflectance_add_band.append(add_offset)\n",
        "    print(f'Band {band_id}: BOA Add Offset: {add_offset}')\n",
        "\n",
        "# Sicherstellen, dass die Anzahl der Bänder übereinstimmt\n",
        "assert len(reflectance_add_band) >= bands_19.shape[0], \"Anzahl der Bänder stimmt nicht überein\"\n",
        "\n",
        "# Nur die vorhandenen Bänder verwenden\n",
        "reflectance_add_band = reflectance_add_band[:bands_19.shape[0]]\n",
        "\n",
        "# Spektrale Signaturen der Trainingsflächen bestimmen\n",
        "spectral_signatures_19 = {}\n",
        "for macroclass in gdf_19['macroclass'].unique():\n",
        "    class_pixels = []\n",
        "    for _, row in gdf_19[gdf_19['macroclass'] == macroclass].iterrows():\n",
        "        geom = row['geometry']\n",
        "        mask = geometry_mask([geom], transform=transform_19, invert=True, out_shape=(bands_19.shape[1], bands_19.shape[2]))\n",
        "        class_pixels.append([band[mask] for band in bands_19])\n",
        "\n",
        "    class_pixels = np.concatenate(class_pixels, axis=1)\n",
        "    spectral_signatures_19[macroclass] = np.mean(class_pixels, axis=1)\n",
        "\n",
        "# Umwandlung der spektralen Signaturen von DN zu Reflectance\n",
        "spectral_signatures_reflectance_19 = {}\n",
        "for macroclass, dn_values in spectral_signatures_19.items():\n",
        "    reflectance_values = (dn_values - np.array(reflectance_add_band)) / boa_quantification_value\n",
        "    spectral_signatures_reflectance_19[macroclass] = reflectance_values\n",
        "\n",
        "# Klassen und Farben\n",
        "classes = {\n",
        "    1: ('Wasser', '#002eff'),\n",
        "    2: ('Stadt', '#ff1300'),\n",
        "    3: ('Regenwald', '#007808'),\n",
        "    4: ('Buschland', '#1eb100'),\n",
        "    5: ('Feuchtgebiet', '#05a89d'),\n",
        "    6: ('Palmöl', '#b800ff'),\n",
        "    7: ('Feld', '#ff8f00'),\n",
        "    8: ('Boden', '#fff200'),\n",
        "    9: ('Wolken', '#ffffff'),\n",
        "    10: ('Wolkenschatten', '#8f8f8f')\n",
        "}\n",
        "\n",
        "\n",
        "# Spektrale Signaturen visualisieren\n",
        "plt.figure(figsize=(10, 6))\n",
        "for macroclass, (class_name, color) in classes.items():\n",
        "    if macroclass in spectral_signatures_reflectance_19:\n",
        "        plt.plot(spectral_signatures_reflectance_19[macroclass], label=class_name, color=color, linewidth=1.5, linestyle='-',\n",
        "                 path_effects=[pe.Stroke(linewidth=2, foreground='black'), pe.Normal()])\n",
        "\n",
        "# Achsenbeschriftungen für jedes Band hinzufügen\n",
        "bands_labels = [f'Band {i+1}' for i in range(len(reflectance_add_band))]\n",
        "plt.xticks(ticks=range(len(reflectance_add_band)), labels=bands_labels)\n",
        "\n",
        "plt.ylabel('Reflexion [0-1]', fontsize=12, fontweight='bold', labelpad=20)\n",
        "plt.ylim(0.1, 1.0)\n",
        "plt.yticks(np.arange(0.2, 1.1, 0.1))\n",
        "plt.legend(fontsize=10)\n",
        "\n",
        "# Diagramm als JPG in hoher Auflösung speichern\n",
        "jpeg_path = os.path.join(output_dir, 'spektrale_signaturen19.jpg')\n",
        "plt.savefig(jpeg_path, dpi=1200, format='jpg')\n",
        "\n",
        "plt.show()"
      ]
    },
    {
      "cell_type": "markdown",
      "metadata": {
        "id": "thiujIs2LLVt"
      },
      "source": [
        "Features und Labels für das Modelltraining festelgen. Aufteilen der Traingsflächen in einen Trainings- (70 %) und Testdatensatz (30 %)."
      ]
    },
    {
      "cell_type": "code",
      "execution_count": null,
      "metadata": {
        "id": "Gs7TfpRK14lo"
      },
      "outputs": [],
      "source": [
        "# Features und Labels extrahieren\n",
        "features_19 = []\n",
        "labels_19 = []\n",
        "\n",
        "for _, row in gdf_19.iterrows():\n",
        "    geom = row['geometry']\n",
        "    macroclass = row['macroclass']\n",
        "\n",
        "    # Maske für das Polygon erstellen\n",
        "    mask = geometry_mask([geom], transform=transform_19, invert=True, out_shape=(src.height, src.width))\n",
        "\n",
        "    # Pixelwerte innerhalb des Polygons extrahieren\n",
        "    polygon_features = []\n",
        "    for band in bands_19:\n",
        "        masked_band = band[mask]\n",
        "        polygon_features.append(masked_band)\n",
        "\n",
        "    # Sicherstellen, dass alle Bänder die gleiche Anzahl von Pixeln haben\n",
        "    min_length = min(len(band) for band in polygon_features)\n",
        "    polygon_features = [band[:min_length] for band in polygon_features]\n",
        "\n",
        "    # Features und Labels sammeln\n",
        "    features_19.extend(np.array(polygon_features).T)\n",
        "    labels_19.extend([macroclass] * min_length)\n",
        "\n",
        "# In numpy Arrays umwandeln\n",
        "features_19 = np.array(features_19)\n",
        "labels_19 = np.array(labels_19)\n",
        "\n",
        "# Trainings- und Testdaten aufteilen\n",
        "X_train_19, X_test_19, y_train_19, y_test_19 = train_test_split(features_19, labels_19, test_size=0.3, random_state=42)\n",
        "\n",
        "# Überprüfen der Aufteilung\n",
        "print(\"Anzahl der Trainingsdaten:\", len(X_train_19))\n",
        "print(\"Anzahl der Testdaten:\", len(X_test_19))"
      ]
    },
    {
      "cell_type": "markdown",
      "metadata": {
        "id": "ac4ZAR5YLPGJ"
      },
      "source": [
        "Trainieren des Machine Learning Modells mit dem Random Forest Algorithmus (200 Entscheidungsbäume) mit den Trainingsdaten. Evaluieren des Modells mit den Testdaten und Ausgabe des Klassifikationsberichtes."
      ]
    },
    {
      "cell_type": "code",
      "execution_count": null,
      "metadata": {
        "id": "Ql14sn-X14lp"
      },
      "outputs": [],
      "source": [
        "# Random Forest Modell direkt mit 200 Bäumen trainieren\n",
        "print(\"Training des Random Forest Modells...\")\n",
        "rf_model_19 = RandomForestClassifier(n_estimators=200, random_state=42, n_jobs=-1)\n",
        "\n",
        "# Fortschrittsbalken simulieren (da RandomForest intern parallel trainiert)\n",
        "with tqdm(total=1, desc=\"Training Progress\") as pbar:\n",
        "    rf_model_19.fit(X_train_19, y_train_19)  # Modell trainieren\n",
        "    pbar.update(1)  # Fortschritt erhöhen\n",
        "\n",
        "# Vorhersagen auf den Testdaten\n",
        "y_pred_19 = rf_model_19.predict(X_test_19)\n",
        "\n",
        "# Genauigkeit berechnen und ausgeben\n",
        "accuracy_19 = accuracy_score(y_test_19, y_pred_19)\n",
        "print(f\"Genauigkeit: {accuracy_19:.2f}\")\n",
        "\n",
        "# Klassifikationsbericht als DataFrame speichern\n",
        "classification_rep_19 = classification_report(y_test_19, y_pred_19, output_dict=True)\n",
        "df_classification_report_19 = pd.DataFrame(classification_rep_19).transpose()\n",
        "\n",
        "# Excel-Datei speichern\n",
        "output_excel_path_19 = os.path.join(output_dir, 'classification_report_19.xlsx')\n",
        "df_classification_report_19.to_excel(output_excel_path_19, index=True)\n",
        "\n",
        "print(f\"Klassifikationsbericht wurde erfolgreich unter {output_excel_path_19} gespeichert.\")"
      ]
    },
    {
      "cell_type": "markdown",
      "metadata": {
        "id": "S4yicBY414lq"
      },
      "source": [
        "### 2.2 Band processing - Klassifikation\n",
        "Klassifikation für das gesamte Raster."
      ]
    },
    {
      "cell_type": "code",
      "execution_count": null,
      "metadata": {
        "id": "B3WTjGy-14lr"
      },
      "outputs": [],
      "source": [
        "# Klassifikation für das gesamte Raster durchführen\n",
        "flat_bands_19 = bands_19.reshape(bands_19.shape[0], -1).T\n",
        "print(\"Klassifikation des gesamten Rasters...\")\n",
        "\n",
        "# Fortschrittsbalken und Batch-Verarbeitung\n",
        "predictions_19 = []\n",
        "batch_size = 10000  # Batch-Größe\n",
        "for i in tqdm(range(0, flat_bands_19.shape[0], batch_size), desc=\"Klassifikation Progress\"):\n",
        "    end = min(i + batch_size, flat_bands_19.shape[0])\n",
        "    batch = flat_bands_19[i:end]\n",
        "    predictions_19.extend(rf_model_19.predict(batch))\n",
        "\n",
        "\n",
        "predictions_19 = np.array(predictions_19).reshape(bands_19.shape[1], bands_19.shape[2])"
      ]
    },
    {
      "cell_type": "markdown",
      "metadata": {
        "id": "824QUKRbLaLY"
      },
      "source": [
        "\"Confidence Map\" für die Klassifizierung wird erstellt. Dazu berechnet das Modell für jeden Pixel im Raster die Wahrscheinlichkeiten, zu welcher der definierten Landnutzungsklassen (z.B. Wasser, Stadt, Regenwald, etc.) er gehört. Im Ergenis zeigt die Confidence Map die Sicherheit des Modells für die jeweilige Klassifizierung an."
      ]
    },
    {
      "cell_type": "code",
      "execution_count": null,
      "metadata": {
        "id": "ptzV-2OZ14ls"
      },
      "outputs": [],
      "source": [
        "# Daten als NumPy-Array\n",
        "flat_bands_19_array = flat_bands_19.astype(np.float32)\n",
        "\n",
        "# Confidence Map initialisieren\n",
        "confidence_19 = np.zeros(flat_bands_19.shape[0], dtype=float)\n",
        "\n",
        "print(\"Erstellung der Confidence Map mit CPU...\")\n",
        "\n",
        "# Berechnung der Confidence-Werte in Batches\n",
        "for i in tqdm(range(0, flat_bands_19.shape[0], batch_size), desc=\"Confidence Map Progress\"):\n",
        "    end = min(i + batch_size, flat_bands_19.shape[0])\n",
        "    batch = flat_bands_19_array[i:end]\n",
        "    probs = rf_model_19.predict_proba(batch)\n",
        "    confidence_19[i:end] = np.max(probs, axis=1)\n",
        "\n",
        "# Ergebnisse in die ursprüngliche Rasterform bringen\n",
        "confidence_19 = confidence_19.reshape(src.height, src.width)"
      ]
    },
    {
      "cell_type": "markdown",
      "metadata": {
        "id": "SMsxDHthLho-"
      },
      "source": [
        "Ausgabe des Klassifikationsergebnisses und speichern als GeoTIFF."
      ]
    },
    {
      "cell_type": "code",
      "execution_count": null,
      "metadata": {
        "id": "RxZyOj2P14ls"
      },
      "outputs": [],
      "source": [
        "# Pfade für die Ausgabe\n",
        "output_classification_path_19 = f'{output_dir}/T49MHS-19-RandomForest-01.tif'\n",
        "output_confidence_path_19 = f'{output_dir}/T49MHS-19-confidence-01.tif'\n",
        "\n",
        "# Klassifikationsergebnis speichern\n",
        "with rasterio.open(\n",
        "    output_classification_path_19,\n",
        "    'w',\n",
        "    driver='GTiff',\n",
        "    height=height_19,\n",
        "    width=width_19,\n",
        "    count=1,\n",
        "    dtype='float32',\n",
        "    crs=crs_19,\n",
        "    transform=transform_19,\n",
        "    compress='lzw'\n",
        ") as dst:\n",
        "    dst.write(predictions_19, 1)\n",
        "\n",
        "# Confidence Map speichern\n",
        "with rasterio.open(\n",
        "    output_confidence_path_19,\n",
        "    'w',\n",
        "    driver='GTiff',\n",
        "    height=height_19,\n",
        "    width=width_19,\n",
        "    count=1,\n",
        "    dtype='float32',\n",
        "    crs=crs_19,\n",
        "    transform=transform_19,\n",
        "    compress='lzw'\n",
        ") as dst:\n",
        "    dst.write(confidence_19, 1)\n",
        "\n",
        "# Farben definieren\n",
        "colors = ['#002eff', '#ff1300', '#007808', '#1eb100', '#05a89d', '#b800ff', '#ff8f00', '#fff200', '#ffffff', '#8f8f8f']\n",
        "cmap = ListedColormap(colors)\n",
        "\n",
        "# Klassifikationsergebnis anzeigen\n",
        "plt.figure(figsize=(10, 10))\n",
        "plt.title('Klassifikationsergebnis')\n",
        "plt.imshow(predictions_19, cmap=cmap)\n",
        "plt.colorbar(ticks=np.arange(1, 11), label='Klassen')\n",
        "plt.show()\n",
        "\n",
        "# Confidence Map anzeigen\n",
        "plt.figure(figsize=(10, 10))\n",
        "plt.title('Confidence Map')\n",
        "plt.imshow(confidence_19, cmap='viridis')\n",
        "plt.colorbar(label='Confidence')\n",
        "plt.show()"
      ]
    },
    {
      "cell_type": "markdown",
      "metadata": {
        "id": "gymPDpwrLm01"
      },
      "source": [
        "Funktion sieve ermöglicht das Ersetzen isolierter Pixelwerte durch den Wert des größten Nachbarpatches. Entfernen kleiner Patches aus der Klassifizierung."
      ]
    },
    {
      "cell_type": "code",
      "execution_count": null,
      "metadata": {
        "id": "QqAW-Gzv14ls"
      },
      "outputs": [],
      "source": [
        "# Pfad zur Klassifikationsdatei\n",
        "output_classification_path_19 = f'{output_dir}/T49MHS-19-RandomForest-01.tif'\n",
        "\n",
        "# Klassifikationsergebnis laden, um CRS und Transform zu erhalten\n",
        "with rasterio.open(output_classification_path_19) as src_19:\n",
        "    predictions_19 = src_19.read(1)\n",
        "    crs_19 = src_19.crs\n",
        "    transform_19 = src_19.transform\n",
        "\n",
        "# Verschiedene Werte für die Siebgröße ausprobieren\n",
        "sizes = [200, 500, 1000]\n",
        "\n",
        "for size in tqdm(sizes, desc=\"Sieve Sizes\"):\n",
        "    sieved_classification = sieve(predictions_19.astype(rasterio.int32), size=size)\n",
        "\n",
        "    output_path = f'{output_dir}/T49MHS-19-RandomForest-01_sieved_size_{size}.tif'\n",
        "\n",
        "    with rasterio.open(\n",
        "        output_path,\n",
        "        'w',\n",
        "        driver='GTiff',\n",
        "        height=sieved_classification.shape[0],\n",
        "        width=sieved_classification.shape[1],\n",
        "        count=1,\n",
        "        dtype='int32',\n",
        "        crs=crs_19,\n",
        "        transform=transform_19,\n",
        "        compress='lzw'\n",
        "    ) as dst:\n",
        "        dst.write(sieved_classification, 1)\n",
        "\n",
        "    print(f\"Das Klassifikationsergebnis mit size={size} wurde erfolgreich unter {output_path} gespeichert.\")"
      ]
    },
    {
      "cell_type": "markdown",
      "metadata": {
        "id": "qao5FbTa14lt"
      },
      "source": [
        "### 2.3 Plots\n",
        "Klassifikationsergebnis und Confidence Map mit Legende und Angabe der Koordinaten als JPEG im Ausgabeordner speichern."
      ]
    },
    {
      "cell_type": "code",
      "execution_count": null,
      "metadata": {
        "id": "qLg0h_nD14lt"
      },
      "outputs": [],
      "source": [
        "# Pfade zu den Dateien\n",
        "tif_path = f'{output_dir}/T49MHS-19-RandomForest-01_sieved_size_200.tif'\n",
        "jpeg_path = f'{output_dir}/T49MHS-19-RandomForest-01_sieved_size_200.jpg'\n",
        "\n",
        "# Klassen und Farben\n",
        "classes = {\n",
        "    1: ('Wasser', '#002eff'),\n",
        "    2: ('Stadt', '#ff1300'),\n",
        "    3: ('Regenwald', '#007808'),\n",
        "    4: ('Buschland', '#1eb100'),\n",
        "    5: ('Feuchtgebiet', '#05a89d'),\n",
        "    6: ('Palmöl', '#b800ff'),\n",
        "    7: ('Feld', '#ff8f00'),\n",
        "    8: ('Boden', '#fff200'),\n",
        "    9: ('Wolken', '#ffffff'),\n",
        "    10: ('Wolkenschatten', '#8f8f8f')\n",
        "}\n",
        "\n",
        "# TIF-Datei laden\n",
        "with rasterio.open(tif_path) as src:\n",
        "    image = src.read(1)\n",
        "    transform = src.transform\n",
        "    crs = src.crs\n",
        "    extent = rasterio.plot.plotting_extent(src)\n",
        "\n",
        "# Bild anzeigen und Farbgebung anwenden\n",
        "fig, ax = plt.subplots(figsize=(10, 10))\n",
        "cmap = plt.cm.colors.ListedColormap([classes[i][1] for i in range(1, 11)])\n",
        "bounds = np.arange(1, 12)\n",
        "norm = plt.cm.colors.BoundaryNorm(bounds, cmap.N)\n",
        "im = ax.imshow(image, cmap=cmap, norm=norm, extent=extent)\n",
        "\n",
        "# Legende hinzufügen\n",
        "handles = [plt.Line2D([0], [0], marker='o', color='w', markerfacecolor=color, markersize=10, label=label,\n",
        "                      markeredgewidth=1, markeredgecolor='black')\n",
        "           for idx, (label, color) in classes.items()]\n",
        "legend = ax.legend(handles=handles, title='Klassen (MC)', loc='upper left', bbox_to_anchor=(1, 1))\n",
        "plt.setp(legend.get_title(), fontsize='12', fontweight='bold')\n",
        "\n",
        "# Koordinaten anzeigen\n",
        "ax.set_xlabel('Longitude', fontsize=12, fontweight='bold', labelpad=20)\n",
        "ax.set_ylabel('Latitude', fontsize=12, fontweight='bold', labelpad=20)\n",
        "ax.yaxis.set_tick_params(rotation=90)\n",
        "ax.grid(False)\n",
        "\n",
        "# Koordinatenformatierung\n",
        "ax.xaxis.set_major_formatter(plt.FuncFormatter(lambda x, _: f'{x:.0f}'))\n",
        "ax.yaxis.set_major_formatter(plt.FuncFormatter(lambda y, _: f'{y:.0f}'))\n",
        "\n",
        "# Bild speichern\n",
        "plt.savefig(jpeg_path, dpi=1200, bbox_inches='tight')\n",
        "plt.close()"
      ]
    },
    {
      "cell_type": "code",
      "execution_count": null,
      "metadata": {
        "id": "8ydR1sZI14lu"
      },
      "outputs": [],
      "source": [
        "# Pfade zu den Dateien\n",
        "conf_path = f'{output_dir}/T49MHS-19-confidence-01.tif'\n",
        "jpeg_path = f'{output_dir}/T49MHS-19-confidence-01.jpg'\n",
        "\n",
        "# TIF-Datei laden\n",
        "with rasterio.open(conf_path) as src:\n",
        "    image = src.read(1)\n",
        "    transform = src.transform\n",
        "    crs = src.crs\n",
        "    extent = rasterio.plot.plotting_extent(src)\n",
        "\n",
        "# Bild anzeigen und Farbgebung anwenden\n",
        "fig, ax = plt.subplots(figsize=(10, 10))\n",
        "cmap = plt.cm.magma\n",
        "im = ax.imshow(image, cmap=cmap, extent=extent)\n",
        "\n",
        "# Farbskala hinzufügen\n",
        "cbar = plt.colorbar(im, ax=ax, fraction=0.046, pad=0.04)\n",
        "#cbar.ax.set_ylabel('Vertrauensbereich', fontsize=12, fontweight='bold', labelpad=40, rotation=270)\n",
        "#cbar.ax.yaxis.set_label_position('right')\n",
        "\n",
        "# Automatische Werte und benutzerdefinierte Beschriftungen hinzufügen\n",
        "cbar.ax.yaxis.set_major_formatter(plt.FuncFormatter(lambda x, _: f'{x:.1f}'))\n",
        "cbar.ax.text(2.30, 1.0, '- hoch', transform=cbar.ax.transAxes, fontsize=12, fontweight='bold', va='center')\n",
        "cbar.ax.text(2.30, 0.0, '- niedrig', transform=cbar.ax.transAxes, fontsize=12, fontweight='bold', va='center')\n",
        "\n",
        "# Koordinaten anzeigen\n",
        "ax.set_xlabel('Longitude', fontsize=12, fontweight='bold', labelpad=20)\n",
        "ax.set_ylabel('Latitude', fontsize=12, fontweight='bold', labelpad=20)\n",
        "ax.yaxis.set_tick_params(rotation=90)\n",
        "ax.grid(False)\n",
        "\n",
        "# Koordinatenformatierung\n",
        "ax.xaxis.set_major_formatter(plt.FuncFormatter(lambda x, _: f'{x:.0f}'))\n",
        "ax.yaxis.set_major_formatter(plt.FuncFormatter(lambda y, _: f'{y:.0f}'))\n",
        "\n",
        "# Bild speichern\n",
        "plt.savefig(jpeg_path, dpi=1200, bbox_inches='tight')\n",
        "plt.close()"
      ]
    },
    {
      "cell_type": "markdown",
      "metadata": {
        "id": "UFKx_LHG14lu"
      },
      "source": [
        "## 3. Change detection\n",
        "Änderungsdetektion zwischen der Klassifikation von 2019 und 2023 wird durchgeführt. Das Ergebnisse wird in einer Änderungsmatrix als EXCEL gespeichert."
      ]
    },
    {
      "cell_type": "code",
      "execution_count": null,
      "metadata": {
        "id": "ahtQL7Zn14lu"
      },
      "outputs": [],
      "source": [
        "# Pfade zu den Klassifikationsergebnissen\n",
        "sieved_classification_path_19 = f'{output_dir}/T49MHS-19-RandomForest-01_sieved_size_200.tif'\n",
        "sieved_classification_path_23 = f'{output_dir}/T49MHS-23-RandomForest-01_sieved_size_200.tif'\n",
        "\n",
        "# Klassifikationsergebnisse laden\n",
        "with rasterio.open(sieved_classification_path_19) as src_19:\n",
        "    classification_19 = src_19.read(1)\n",
        "\n",
        "with rasterio.open(sieved_classification_path_23) as src_23:\n",
        "    classification_23 = src_23.read(1)\n",
        "\n",
        "# Änderungsdetektion durchführen\n",
        "change_detection = classification_23 - classification_19\n",
        "\n",
        "# Fortschrittsbalken für die Erstellung der Änderungsmatrix\n",
        "print(\"Erstellung der Änderungsmatrix...\")\n",
        "\n",
        "# Klassen definieren\n",
        "classes = [1, 2, 3, 4, 5, 6, 7, 8, 9, 10]\n",
        "class_names_19 = [f'{name}_19' for name in ['Water', 'City', 'Rainforest', 'Bushland','Wetland', 'Monoculture', 'Agriculture', 'Soil', 'Cloud', 'Unclassified']]\n",
        "class_names_23 = [f'{name}_23' for name in ['Water', 'City', 'Rainforest', 'Bushland','Wetland', 'Monoculture', 'Agriculture', 'Soil', 'Cloud', 'Unclassified']]\n",
        "\n",
        "# Änderungsmatrix initialisieren\n",
        "change_matrix = np.zeros((len(classes), len(classes)))\n",
        "\n",
        "# Änderungsmatrix berechnen\n",
        "for i, class_19 in enumerate(classes):\n",
        "    for j, class_23 in enumerate(classes):\n",
        "        change_matrix[i, j] = np.sum((classification_19 == class_19) & (classification_23 == class_23))\n",
        "\n",
        "# In Prozent umrechnen\n",
        "change_matrix_percent = (change_matrix / change_matrix.sum()) * 100\n",
        "\n",
        "# Ergebniszeile hinzufügen\n",
        "change_matrix_percent = np.vstack([change_matrix_percent, change_matrix_percent.sum(axis=0)])\n",
        "\n",
        "# DataFrame erstellen\n",
        "change_matrix_df = pd.DataFrame(change_matrix_percent, columns=class_names_23, index=class_names_19 + ['Total'])\n",
        "\n",
        "# Änderungen als Excel-Datei speichern\n",
        "change_matrix_path = os.path.join(output_dir, 'change_detection_matrix.xlsx')\n",
        "change_matrix_df.to_excel(change_matrix_path, index=True)\n",
        "print(f\"Änderungsmatrix wurde erfolgreich unter {change_matrix_path} gespeichert.\")"
      ]
    },
    {
      "cell_type": "markdown",
      "metadata": {
        "id": "5k-WTQfJ14lv"
      },
      "source": [
        "Die Änderungen werden visualisiert und als JPEG gespeichert. Änderungen von Macroclass 6 (Palmöl) werden separat dargestellt und als Matrix gespeichert."
      ]
    },
    {
      "cell_type": "code",
      "execution_count": null,
      "metadata": {
        "id": "8P83rEyk14lv"
      },
      "outputs": [],
      "source": [
        "# Änderungen visualisieren\n",
        "colors = plt.cm.coolwarm(np.linspace(0, 1, 256)) # Benutzerdefinierte Farbkarte erstellen\n",
        "colors[128] = [1, 1, 1, 1]  # Setze den mittleren Wert auf Weiß\n",
        "custom_cmap = ListedColormap(colors)\n",
        "fig, ax = plt.subplots(figsize=(10, 10))\n",
        "im = ax.imshow(change_detection, cmap=custom_cmap, vmin=-np.max(np.abs(change_detection)), vmax=np.max(np.abs(change_detection)), extent=extent)\n",
        "\n",
        "# Farbskala hinzufügen\n",
        "cbar = plt.colorbar(im, ax=ax, fraction=0.046, pad=0.04)\n",
        "cbar.ax.yaxis.set_major_formatter(plt.FuncFormatter(lambda x, _: f'{x:.1f}'))\n",
        "cbar.ax.text(2.5, 1.0, 'positiv', transform=cbar.ax.transAxes, fontsize=12, fontweight='bold', va='center')\n",
        "cbar.ax.text(2.5, 0.5, 'keine', transform=cbar.ax.transAxes, fontsize=12, fontweight='bold', va='center')\n",
        "cbar.ax.text(2.5, 0.0, 'negativ', transform=cbar.ax.transAxes, fontsize=12, fontweight='bold', va='center')\n",
        "\n",
        "# Koordinaten anzeigen\n",
        "ax.set_xlabel('Longitude', fontsize=12, fontweight='bold', labelpad=20)\n",
        "ax.set_ylabel('Latitude', fontsize=12, fontweight='bold', labelpad=20)\n",
        "ax.yaxis.set_tick_params(rotation=90)\n",
        "ax.grid(False)\n",
        "\n",
        "# Koordinatenformatierung\n",
        "ax.xaxis.set_major_formatter(plt.FuncFormatter(lambda x, _: f'{x:.0f}'))\n",
        "ax.yaxis.set_major_formatter(plt.FuncFormatter(lambda y, _: f'{y:.0f}'))\n",
        "\n",
        "# Bild speichern\n",
        "change_detection_plot_path = os.path.join(output_dir, 'change_detection_plot.jpg')\n",
        "plt.savefig(change_detection_plot_path, dpi=1200, bbox_inches='tight')\n",
        "plt.close()\n",
        "\n",
        "print(f\"Änderungsplot wurde erfolgreich unter {change_detection_plot_path} gespeichert.\")\n",
        "\n",
        "#  Änderungen von macroclass 6 visualisieren\n",
        "change_6 = np.zeros_like(change_detection)\n",
        "change_6[(classification_19 != 6) & (classification_23 == 6) & (classification_19 != 9) & (classification_19 != 10) & (classification_23 != 9) & (classification_23 != 10)] = 1  # 6 dazugekommen\n",
        "change_6[(classification_19 == 6) & (classification_23 != 6) & (classification_23 != 9) & (classification_23 != 10)] = -1  # 6 weniger geworden\n",
        "\n",
        "# Flächenberechnung\n",
        "pixel_area_km2 = (src_19.res[0] * src_19.res[1]) / 1e6  # Pixelgröße in km²\n",
        "\n",
        "# Flächen in km² und Prozent berechnen\n",
        "area_6_added_km2 = np.sum(change_6 == 1) * pixel_area_km2\n",
        "area_6_removed_km2 = np.sum(change_6 == -1) * pixel_area_km2\n",
        "total_area_km2 = classification_19.size * pixel_area_km2\n",
        "\n",
        "area_6_added_percent = (area_6_added_km2 / total_area_km2) * 100\n",
        "area_6_removed_percent = (area_6_removed_km2 / total_area_km2) * 100\n",
        "\n",
        "# DataFrame erstellen\n",
        "data = {\n",
        "    'Fläche (km²)': [area_6_added_km2, area_6_removed_km2],\n",
        "    'Prozent (%)': [area_6_added_percent, area_6_removed_percent]\n",
        "}\n",
        "df = pd.DataFrame(data, index=['Monoculture hinzugekommen', 'Monoculture verschwunden'])\n",
        "\n",
        "# Änderungen als Excel-Datei speichern\n",
        "change_6_excel_path = os.path.join(output_dir, 'change_detection_matrix_6.xlsx')\n",
        "df.to_excel(change_6_excel_path, index=True)\n",
        "print(f\"Änderungen von Macroclass 6 wurden erfolgreich unter {change_6_excel_path} gespeichert.\")\n",
        "\n",
        "# Farben definieren\n",
        "colors_6 = ['#007808', '#ffffff', '#b800ff']\n",
        "cmap_6 = ListedColormap(colors_6)\n",
        "\n",
        "fig, ax = plt.subplots(figsize=(10, 10))\n",
        "im = ax.imshow(change_6, cmap=cmap_6, extent=extent)\n",
        "\n",
        "# Farbskala hinzufügen\n",
        "cbar = plt.colorbar(im, ax=ax, fraction=0.046, pad=0.04)\n",
        "cbar.ax.set_ylabel('', fontsize=12, fontweight='bold', labelpad=40, rotation=270)\n",
        "cbar.ax.yaxis.set_label_position('right')\n",
        "cbar.ax.yaxis.set_major_formatter(plt.FuncFormatter(lambda x, _: f'{x:.1f}'))\n",
        "cbar.ax.text(2.50, 1.0, 'positiv', transform=cbar.ax.transAxes, fontsize=12, fontweight='bold', va='center')\n",
        "cbar.ax.text(2.50, 0.5, 'keine', transform=cbar.ax.transAxes, fontsize=12, fontweight='bold', va='center')\n",
        "cbar.ax.text(2.50, 0.0, 'negativ', transform=cbar.ax.transAxes, fontsize=12, fontweight='bold', va='center')\n",
        "\n",
        "# Koordinaten anzeigen\n",
        "ax.set_xlabel('Longitude', fontsize=12, fontweight='bold', labelpad=20)\n",
        "ax.set_ylabel('Latitude', fontsize=12, fontweight='bold', labelpad=20)\n",
        "ax.yaxis.set_tick_params(rotation=90)\n",
        "ax.grid(False)\n",
        "\n",
        "# Koordinatenformatierung\n",
        "ax.xaxis.set_major_formatter(plt.FuncFormatter(lambda x, _: f'{x:.0f}'))\n",
        "ax.yaxis.set_major_formatter(plt.FuncFormatter(lambda y, _: f'{y:.0f}'))\n",
        "\n",
        "# Bild speichern\n",
        "change_6_plot_path = os.path.join(output_dir, 'change_detection_plot_6.jpg')\n",
        "plt.savefig(change_6_plot_path, dpi=1200, bbox_inches='tight')\n",
        "plt.close()\n",
        "\n",
        "print(f\"Änderungsplots wurden erfolgreich unter {change_detection_plot_path} und {change_6_plot_path} gespeichert.\")"
      ]
    },
    {
      "cell_type": "markdown",
      "metadata": {
        "id": "9vIeaSPJMpi0"
      },
      "source": [
        "Für eine genauere Differenzierung zwischen der Umwandlung der Klassen Regenwald, Buschland oder Feuchtgebiet in Palmöl oder umgekerht findet eine separate Berechnung und Visualisierung dieser Änderungen statt."
      ]
    },
    {
      "cell_type": "code",
      "execution_count": null,
      "metadata": {
        "id": "Bqecx7nj14lw"
      },
      "outputs": [],
      "source": [
        "# Änderungen zwischen macroclass 6 und macroclass 3 visualisieren\n",
        "change_6_3 = np.zeros_like(change_detection)\n",
        "change_6_3[(classification_19 != 6) & (classification_23 == 6) & (classification_19 == 3)] = 1  # 6 dazugekommen von 3\n",
        "change_6_3[(classification_19 == 6) & (classification_23 != 6) & (classification_23 == 3)] = -1  # 6 weniger geworden zu 3\n",
        "\n",
        "# Flächenberechnung\n",
        "pixel_area_km2 = (src_19.res[0] * src_19.res[1]) / 1e6  # Pixelgröße in km²\n",
        "\n",
        "# Flächen in km² und Prozent berechnen\n",
        "area_6_3_added_km2 = np.sum(change_6_3 == 1) * pixel_area_km2\n",
        "area_6_3_removed_km2 = np.sum(change_6_3 == -1) * pixel_area_km2\n",
        "total_area_km2 = classification_19.size * pixel_area_km2\n",
        "\n",
        "area_6_3_added_percent = (area_6_3_added_km2 / total_area_km2) * 100\n",
        "area_6_3_removed_percent = (area_6_3_removed_km2 / total_area_km2) * 100\n",
        "\n",
        "# DataFrame erstellen\n",
        "data = {\n",
        "    'Fläche (km²)': [area_6_3_added_km2, area_6_3_removed_km2],\n",
        "    'Prozent (%)': [area_6_3_added_percent, area_6_3_removed_percent]\n",
        "}\n",
        "df = pd.DataFrame(data, index=['Von 3 zu 6 hinzugekommen', 'Von 6 zu 3 verschwunden'])\n",
        "\n",
        "# Änderungen als Excel-Datei speichern\n",
        "change_6_3_excel_path = os.path.join(output_dir, 'change_detection_matrix_6_3.xlsx')\n",
        "df.to_excel(change_6_3_excel_path, index=True)\n",
        "print(f\"Änderungen zwischen Macroclass 6 und 3 wurden erfolgreich unter {change_6_3_excel_path} gespeichert.\")\n",
        "\n",
        "# Farben definieren\n",
        "colors_6_3 = ['#007808', '#ffffff', '#b800ff']\n",
        "cmap_6_3 = ListedColormap(colors_6_3)\n",
        "\n",
        "fig, ax = plt.subplots(figsize=(10, 10))\n",
        "im = ax.imshow(change_6_3, cmap=cmap_6_3, extent=extent)\n",
        "\n",
        "# Farbskala hinzufügen\n",
        "cbar = plt.colorbar(im, ax=ax, fraction=0.046, pad=0.04)\n",
        "cbar.ax.set_ylabel('', fontsize=12, fontweight='bold', labelpad=40, rotation=270)\n",
        "cbar.ax.yaxis.set_label_position('right')\n",
        "cbar.ax.yaxis.set_major_formatter(plt.FuncFormatter(lambda x, _: f'{x:.1f}'))\n",
        "cbar.ax.text(2.50, 1.0, 'positiv', transform=cbar.ax.transAxes, fontsize=12, fontweight='bold', va='center')\n",
        "cbar.ax.text(2.50, 0.5, 'keine', transform=cbar.ax.transAxes, fontsize=12, fontweight='bold', va='center')\n",
        "cbar.ax.text(2.50, 0.0, 'negativ', transform=cbar.ax.transAxes, fontsize=12, fontweight='bold', va='center')\n",
        "\n",
        "# Koordinaten anzeigen\n",
        "ax.set_xlabel('Longitude', fontsize=12, fontweight='bold', labelpad=20)\n",
        "ax.set_ylabel('Latitude', fontsize=12, fontweight='bold', labelpad=20)\n",
        "ax.yaxis.set_tick_params(rotation=90)\n",
        "ax.grid(False)\n",
        "\n",
        "# Koordinatenformatierung\n",
        "ax.xaxis.set_major_formatter(plt.FuncFormatter(lambda x, _: f'{x:.0f}'))\n",
        "ax.yaxis.set_major_formatter(plt.FuncFormatter(lambda y, _: f'{y:.0f}'))\n",
        "\n",
        "# Bild speichern\n",
        "change_6_3_plot_path = os.path.join(output_dir, 'change_detection_plot_6_3.jpg')\n",
        "plt.savefig(change_6_3_plot_path, dpi=1200, bbox_inches='tight')\n",
        "plt.close()\n",
        "\n",
        "print(f\"Änderungsplots wurden erfolgreich unter {change_6_3_plot_path} gespeichert.\")"
      ]
    },
    {
      "cell_type": "code",
      "execution_count": null,
      "metadata": {
        "id": "NDqDKFXp14lw"
      },
      "outputs": [],
      "source": [
        "# Änderungen zwischen macroclass 6 und macroclass 4 visualisieren\n",
        "change_6_4 = np.zeros_like(change_detection)\n",
        "change_6_4[(classification_19 != 6) & (classification_23 == 6) & (classification_19 == 4)] = 1  # 6 dazugekommen von 4\n",
        "change_6_4[(classification_19 == 6) & (classification_23 != 6) & (classification_23 == 4)] = -1  # 6 weniger geworden zu 4\n",
        "\n",
        "# Flächenberechnung\n",
        "pixel_area_km2 = (src_19.res[0] * src_19.res[1]) / 1e6  # Pixelgröße in km²\n",
        "\n",
        "# Flächen in km² und Prozent berechnen\n",
        "area_6_4_added_km2 = np.sum(change_6_4 == 1) * pixel_area_km2\n",
        "area_6_4_removed_km2 = np.sum(change_6_4 == -1) * pixel_area_km2\n",
        "total_area_km2 = classification_19.size * pixel_area_km2\n",
        "\n",
        "area_6_4_added_percent = (area_6_4_added_km2 / total_area_km2) * 100\n",
        "area_6_4_removed_percent = (area_6_4_removed_km2 / total_area_km2) * 100\n",
        "\n",
        "# DataFrame erstellen\n",
        "data = {\n",
        "    'Fläche (km²)': [area_6_4_added_km2, area_6_4_removed_km2],\n",
        "    'Prozent (%)': [area_6_4_added_percent, area_6_4_removed_percent]\n",
        "}\n",
        "df = pd.DataFrame(data, index=['Von 4 zu 6 hinzugekommen', 'Von 6 zu 4 verschwunden'])\n",
        "\n",
        "# Änderungen als Excel-Datei speichern\n",
        "change_6_4_excel_path = os.path.join(output_dir, 'change_detection_matrix_6_4.xlsx')\n",
        "df.to_excel(change_6_4_excel_path, index=True)\n",
        "print(f\"Änderungen zwischen Macroclass 6 und 4 wurden erfolgreich unter {change_6_4_excel_path} gespeichert.\")\n",
        "\n",
        "# Farben definieren\n",
        "colors_6_4 = ['#1eb100', '#ffffff', '#b800ff']\n",
        "cmap_6_4 = ListedColormap(colors_6_4)\n",
        "\n",
        "fig, ax = plt.subplots(figsize=(10, 10))\n",
        "im = ax.imshow(change_6_4, cmap=cmap_6_4, extent=extent)\n",
        "\n",
        "# Farbskala hinzufügen\n",
        "cbar = plt.colorbar(im, ax=ax, fraction=0.046, pad=0.04)\n",
        "cbar.ax.set_ylabel('', fontsize=12, fontweight='bold', labelpad=40, rotation=270)\n",
        "cbar.ax.yaxis.set_label_position('right')\n",
        "cbar.ax.yaxis.set_major_formatter(plt.FuncFormatter(lambda x, _: f'{x:.1f}'))\n",
        "cbar.ax.text(2.50, 1.0, 'positiv', transform=cbar.ax.transAxes, fontsize=12, fontweight='bold', va='center')\n",
        "cbar.ax.text(2.50, 0.5, 'keine', transform=cbar.ax.transAxes, fontsize=12, fontweight='bold', va='center')\n",
        "cbar.ax.text(2.50, 0.0, 'negativ', transform=cbar.ax.transAxes, fontsize=12, fontweight='bold', va='center')\n",
        "\n",
        "# Koordinaten anzeigen\n",
        "ax.set_xlabel('Longitude', fontsize=12, fontweight='bold', labelpad=20)\n",
        "ax.set_ylabel('Latitude', fontsize=12, fontweight='bold', labelpad=20)\n",
        "ax.yaxis.set_tick_params(rotation=90)\n",
        "ax.grid(False)\n",
        "\n",
        "# Koordinatenformatierung\n",
        "ax.xaxis.set_major_formatter(plt.FuncFormatter(lambda x, _: f'{x:.0f}'))\n",
        "ax.yaxis.set_major_formatter(plt.FuncFormatter(lambda y, _: f'{y:.0f}'))\n",
        "\n",
        "# Bild speichern\n",
        "change_6_4_plot_path = os.path.join(output_dir, 'change_detection_plot_6_4.jpg')\n",
        "plt.savefig(change_6_4_plot_path, dpi=1200, bbox_inches='tight')\n",
        "plt.close()\n",
        "\n",
        "print(f\"Änderungsplots wurden erfolgreich unter {change_6_4_plot_path} gespeichert.\")"
      ]
    },
    {
      "cell_type": "code",
      "execution_count": null,
      "metadata": {
        "id": "XxkjuagD14lx"
      },
      "outputs": [],
      "source": [
        "# Änderungen zwischen macroclass 6 und macroclass 5 visualisieren\n",
        "change_6_5 = np.zeros_like(change_detection)\n",
        "change_6_5[(classification_19 != 6) & (classification_23 == 6) & (classification_19 == 5)] = 1  # 6 dazugekommen von 5\n",
        "change_6_5[(classification_19 == 6) & (classification_23 != 6) & (classification_23 == 5)] = -1  # 6 weniger geworden zu 5\n",
        "\n",
        "# Flächenberechnung\n",
        "pixel_area_km2 = (src_19.res[0] * src_19.res[1]) / 1e6  # Pixelgröße in km²\n",
        "\n",
        "# Flächen in km² und Prozent berechnen\n",
        "area_6_5_added_km2 = np.sum(change_6_5 == 1) * pixel_area_km2\n",
        "area_6_5_removed_km2 = np.sum(change_6_5 == -1) * pixel_area_km2\n",
        "total_area_km2 = classification_19.size * pixel_area_km2\n",
        "\n",
        "area_6_5_added_percent = (area_6_5_added_km2 / total_area_km2) * 100\n",
        "area_6_5_removed_percent = (area_6_5_removed_km2 / total_area_km2) * 100\n",
        "\n",
        "# DataFrame erstellen\n",
        "data = {\n",
        "    'Fläche (km²)': [area_6_5_added_km2, area_6_5_removed_km2],\n",
        "    'Prozent (%)': [area_6_5_added_percent, area_6_5_removed_percent]\n",
        "}\n",
        "df = pd.DataFrame(data, index=['Von 5 zu 6 hinzugekommen', 'Von 6 zu 5 verschwunden'])\n",
        "\n",
        "# Änderungen als Excel-Datei speichern\n",
        "change_6_5_excel_path = os.path.join(output_dir, 'change_detection_matrix_6_5.xlsx')\n",
        "df.to_excel(change_6_5_excel_path, index=True)\n",
        "print(f\"Änderungen zwischen Macroclass 6 und 5 wurden erfolgreich unter {change_6_5_excel_path} gespeichert.\")\n",
        "\n",
        "# Farben definieren\n",
        "colors_6_5 = ['#05a89d', '#ffffff', '#b800ff']\n",
        "cmap_6_5 = ListedColormap(colors_6_5)\n",
        "\n",
        "fig, ax = plt.subplots(figsize=(10, 10))\n",
        "im = ax.imshow(change_6_5, cmap=cmap_6_5, extent=extent)\n",
        "\n",
        "# Farbskala hinzufügen\n",
        "cbar = plt.colorbar(im, ax=ax, fraction=0.046, pad=0.04)\n",
        "cbar.ax.set_ylabel('', fontsize=12, fontweight='bold', labelpad=40, rotation=270)\n",
        "cbar.ax.yaxis.set_label_position('right')\n",
        "cbar.ax.yaxis.set_major_formatter(plt.FuncFormatter(lambda x, _: f'{x:.1f}'))\n",
        "cbar.ax.text(2.50, 1.0, 'positiv', transform=cbar.ax.transAxes, fontsize=12, fontweight='bold', va='center')\n",
        "cbar.ax.text(2.50, 0.5, 'keine', transform=cbar.ax.transAxes, fontsize=12, fontweight='bold', va='center')\n",
        "cbar.ax.text(2.50, 0.0, 'negativ', transform=cbar.ax.transAxes, fontsize=12, fontweight='bold', va='center')\n",
        "\n",
        "# Koordinaten anzeigen\n",
        "ax.set_xlabel('Longitude', fontsize=12, fontweight='bold', labelpad=20)\n",
        "ax.set_ylabel('Latitude', fontsize=12, fontweight='bold', labelpad=20)\n",
        "ax.yaxis.set_tick_params(rotation=90)\n",
        "ax.grid(False)\n",
        "\n",
        "# Koordinatenformatierung\n",
        "ax.xaxis.set_major_formatter(plt.FuncFormatter(lambda x, _: f'{x:.0f}'))\n",
        "ax.yaxis.set_major_formatter(plt.FuncFormatter(lambda y, _: f'{y:.0f}'))\n",
        "\n",
        "# Bild speichern\n",
        "change_6_5_plot_path = os.path.join(output_dir, 'change_detection_plot_6_5.jpg')\n",
        "plt.savefig(change_6_5_plot_path, dpi=1200, bbox_inches='tight')\n",
        "plt.close()\n",
        "\n",
        "print(f\"Änderungsplots wurden erfolgreich unter {change_6_5_plot_path} gespeichert.\")"
      ]
    },
    {
      "cell_type": "markdown",
      "metadata": {
        "id": "hp_Use6WCZJt"
      },
      "source": [
        "In der folgenden Abbildung werden die Änderungen der KLasse Palmölplantage in Regenwald, Buschland und Feuchtgebiet in einer gemeinsamen Grafik dargestellt."
      ]
    },
    {
      "cell_type": "code",
      "execution_count": null,
      "metadata": {
        "id": "wSvLIgg-lThS"
      },
      "outputs": [],
      "source": [
        "# Kombinierte Änderungsmatrix erstellen\n",
        "combined_change = np.zeros_like(change_detection)\n",
        "\n",
        "# Werte für die Änderungen setzen\n",
        "combined_change[change_6_3 == 1] = 1  # Von 3 zu 6 hinzugekommen\n",
        "combined_change[change_6_3 == -1] = -1  # Von 6 zu 3 verschwunden\n",
        "combined_change[change_6_4 == 1] = 2  # Von 4 zu 6 hinzugekommen\n",
        "combined_change[change_6_4 == -1] = -2  # Von 6 zu 4 verschwunden\n",
        "combined_change[change_6_5 == 1] = 3  # Von 5 zu 6 hinzugekommen\n",
        "combined_change[change_6_5 == -1] = -3  # Von 6 zu 5 verschwunden\n",
        "\n",
        "# Farben für die Änderungen definieren\n",
        "colors_combined = [\n",
        "    '#05a89d',  # Von 6 zu 5 verschwunden (-3)\n",
        "    '#1eb100',  # Von 6 zu 4 verschwunden (-2)\n",
        "    '#007808',  # Von 6 zu 3 verschwunden (-1)\n",
        "    '#ffffff',  # Keine Änderung (0)\n",
        "    '#b800ff',  # Von 3 zu 6 hinzugekommen (1)\n",
        "    '#b800ff',  # Von 4 zu 6 hinzugekommen (2)\n",
        "    '#b800ff'   # Von 5 zu 6 hinzugekommen (3)\n",
        "]\n",
        "cmap_combined = ListedColormap(colors_combined)\n",
        "\n",
        "# Farbskala an die spezifischen Werte anpassen\n",
        "bounds = [-3, -2, -1, 0, 1, 2, 3, 4]  # Grenzen für die Kategorien\n",
        "norm = plt.cm.colors.BoundaryNorm(bounds, cmap_combined.N)\n",
        "\n",
        "# Plot erstellen\n",
        "fig, ax = plt.subplots(figsize=(10, 10))\n",
        "im = ax.imshow(combined_change, cmap=cmap_combined, norm=norm, extent=extent)\n",
        "\n",
        "# Farbskala hinzufügen\n",
        "cbar = plt.colorbar(im, ax=ax, fraction=0.046, pad=0.04, ticks=[-3, -2, -1, 0, 1, 2, 3])\n",
        "\n",
        "# Mittige Positionen für die Beschriftungen berechnen\n",
        "tick_positions = [-2.5, -1.5, -0.5, 0.5, 1.5, 2.5, 3.5]  # Mittelpunkte der Farbbereiche\n",
        "\n",
        "# Farbskalenbeschriftungen\n",
        "tick_labels = [\n",
        "    'Von Palmölplantage zu Feuchtgebiet',  # -3\n",
        "    'Von Palmölplantage zu Buschland',  # -2\n",
        "    'Von Palmölplantage zu Regenwald',  # -1\n",
        "    'Keine Änderung',           # 0\n",
        "    '', # 1\n",
        "    'Palmölplantage hinzugekommen', # 2\n",
        "    ''  # 3\n",
        "]\n",
        "cbar.set_ticks(tick_positions)  # Mittige Positionen setzen\n",
        "cbar.set_ticklabels(tick_labels)  # Beschriftungen hinzufügen\n",
        "\n",
        "# Beschriftungen rechts platzieren und Abstand anpassen\n",
        "cbar.ax.yaxis.set_ticks_position('right')\n",
        "cbar.ax.yaxis.set_tick_params(pad=10)\n",
        "\n",
        "# Koordinaten anzeigen\n",
        "ax.set_xlabel('Longitude', fontsize=12, fontweight='bold', labelpad=20)\n",
        "ax.set_ylabel('Latitude', fontsize=12, fontweight='bold', labelpad=20)\n",
        "ax.yaxis.set_tick_params(rotation=90)\n",
        "ax.grid(False)\n",
        "\n",
        "# Koordinatenformatierung\n",
        "ax.xaxis.set_major_formatter(plt.FuncFormatter(lambda x, _: f'{x:.0f}'))\n",
        "ax.yaxis.set_major_formatter(plt.FuncFormatter(lambda y, _: f'{y:.0f}'))\n",
        "\n",
        "# Bild speichern\n",
        "combined_plot_path = os.path.join(output_dir, 'combined_change_detection_plot.jpg')\n",
        "plt.savefig(combined_plot_path, dpi=1200, bbox_inches='tight')\n",
        "plt.close()"
      ]
    }
  ],
  "metadata": {
    "colab": {
      "machine_shape": "hm",
      "provenance": []
    },
    "kernelspec": {
      "display_name": "Python 3",
      "name": "python3"
    },
    "language_info": {
      "codemirror_mode": {
        "name": "ipython",
        "version": 3
      },
      "file_extension": ".py",
      "mimetype": "text/x-python",
      "name": "python",
      "nbconvert_exporter": "python",
      "pygments_lexer": "ipython3",
      "version": "3.8.18"
    }
  },
  "nbformat": 4,
  "nbformat_minor": 0
}